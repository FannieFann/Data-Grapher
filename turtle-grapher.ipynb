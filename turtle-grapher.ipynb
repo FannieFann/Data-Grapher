{
 "cells": [
  {
   "cell_type": "markdown",
   "metadata": {},
   "source": [
    "# a4 - Turtle Grapher!\n",
    "In this assignment you will be using Python's [**turtle**](https://docs.python.org/3/library/turtle.html) module to create a program that can visualize a _time series_ of data drawn from a CSV file.\n",
    "\n",
    "Fill in the below code cells as specified to implement this program. Note that cells may utilize variables and functions defined in previous cells."
   ]
  },
  {
   "cell_type": "markdown",
   "metadata": {},
   "source": [
    "## Setup\n",
    "Run the below cell in order to load the `turtle` module (and some additional helper functions)."
   ]
  },
  {
   "cell_type": "code",
   "execution_count": 174,
   "metadata": {},
   "outputs": [
    {
     "data": {
      "application/vnd.jupyter.widget-view+json": {
       "model_id": "00f4190ec3ea4157a0821db41ca71d72",
       "version_major": 2,
       "version_minor": 0
      },
      "text/plain": [
       "HBox(children=(Button(description='Stop Turtle', style=ButtonStyle()), Button(description='Save Drawing', styl…"
      ]
     },
     "metadata": {},
     "output_type": "display_data"
    }
   ],
   "source": [
    "import turtle as turtle_module # import module\n",
    "from ipywidgets import widgets # for buttons\n",
    "\n",
    "def make_turtle(width, height, title):\n",
    "    \"\"\" Create a turtle on a window with given width, height, title\n",
    "    \"\"\"\n",
    "    t = turtle_module.Turtle()\n",
    "    t.getscreen().title(title)\n",
    "    t.getscreen().setup(width, height)\n",
    "    t.getscreen().setworldcoordinates(0, 0, width, height)\n",
    "    return t\n",
    "\n",
    "def stop_turtle():\n",
    "    \"\"\" Stops the currently running turtle window, to be closed manually\n",
    "    \"\"\"\n",
    "    turtle_module.done() # stop the mainloop\n",
    "    turtle_module.TurtleScreen._RUNNING = True # manually indicate it's stopped to enable repeat\n",
    "\n",
    "def save_drawing():\n",
    "    \"\"\" For fun: saves a copy of the drawing done on the canvas, \n",
    "        in both .eps and .png format\n",
    "    \"\"\"\n",
    "    cv = turtle.getscreen().getcanvas()\n",
    "    cv.postscript(file=\"turtle_chart.eps\", colormode='color')\n",
    "    from PIL import Image\n",
    "    img = Image.open(\"turtle_chart.eps\") \n",
    "    img.save(\"turtle_chart.png\", \"png\")    \n",
    "    \n",
    "    \n",
    "stop_button = widgets.Button(description = \"Stop Turtle\")\n",
    "stop_button.on_click(lambda e: stop_turtle())\n",
    "save_button = widgets.Button(description = \"Save Drawing\")\n",
    "save_button.on_click(lambda e: save_drawing())\n",
    "display(widgets.HBox([stop_button, save_button]))"
   ]
  },
  {
   "cell_type": "markdown",
   "metadata": {},
   "source": [
    "You can use the **`make_turtle()`** function to create the window for the turtle to draw in. This function takes as arguments the size and title for the window. You can run the below cell as an example; feel free to adjust the window size if you wish.\n",
    "- Note that for your convenience, the turtle \"starts\" at the lower button corner, which is treated as coordinates (0,0).\n",
    "\n",
    "Note that this function returns a reference to the turtle object that you will need to call methods on to move."
   ]
  },
  {
   "cell_type": "code",
   "execution_count": 175,
   "metadata": {},
   "outputs": [],
   "source": [
    "# arguments: window width, window height, window title\n",
    "turtle = make_turtle(800, 600, \"Turtle Chart\")\n",
    "turtle.speed(10) # use this method to change how fast the turtle moves. See documentation for details."
   ]
  },
  {
   "cell_type": "markdown",
   "metadata": {},
   "source": [
    "You can call methods on the turtle object in order to use it to draw (for example `turtle.forward(10)`). If you want to \"clear\" your drawing, use the `turtle.reset()` method. Note that many cells include calls to reset the drawing so that you can test each one \"fresh\"."
   ]
  },
  {
   "cell_type": "markdown",
   "metadata": {},
   "source": [
    "In order to close the window, you will **first need to \"stop\"** the turtle program. You can do this by calling the provided `stop_turtle()` function, or by clicking the button above. You will then need to **close the window** (by clicking on the red x in the corner). You can re-create the window by re-running the `make_turtle()` function."
   ]
  },
  {
   "cell_type": "code",
   "execution_count": null,
   "metadata": {},
   "outputs": [],
   "source": [
    "# You can also click the above button instead of running this cell!\n",
    "stop_turtle()"
   ]
  },
  {
   "cell_type": "markdown",
   "metadata": {},
   "source": [
    "If you have any problems, you can use the `Kernel > Restart & Clear Output` menu option to restart the entire program."
   ]
  },
  {
   "cell_type": "markdown",
   "metadata": {},
   "source": [
    "## Part 1. Chart Axes\n",
    "In the first set of steps, you'll write functions to draw the x- and y- axes for the chart."
   ]
  },
  {
   "cell_type": "markdown",
   "metadata": {},
   "source": [
    "Define a function **`draw_y_axis_line()`**. This function should move the turtle to the \"bottom left corner\" of the chart, and then use it to draw a vertical line to represent the y-axis.\n",
    "- I used coordinates of (80, 50) as the bottom corner. Defining these as global variables (e.g., `X_ORIGIN` and `Y_ORIGIN` was very useful. Similarly, a `CHART_HEIGHT` variable would be helpful.\n",
    "- Your line should be long enough to leave a little bit of space on the screen&mdash;about 100 pixels less than the height of the window works well.\n",
    "- _Tip:_ The turtle's [goto()](https://docs.python.org/3/library/turtle.html#turtle.goto) method can be really useful for this assignment."
   ]
  },
  {
   "cell_type": "code",
   "execution_count": 56,
   "metadata": {},
   "outputs": [],
   "source": [
    "turtle_module.penup()\n",
    "turtle_module.goto(80,50)\n",
    "turtle_module.pendown()\n",
    "X_ORIGIN = 80\n",
    "Y_ORIGIN = 50\n",
    "CHART_HEIGHT = 500\n",
    "CHART_WIDTH = 700\n"
   ]
  },
  {
   "cell_type": "code",
   "execution_count": 57,
   "metadata": {},
   "outputs": [],
   "source": [
    "def draw_y_axis_line():\n",
    "    turtle_module.left(90)\n",
    "    turtle_module.forward(450)\n",
    "    turtle_module.goto(X_ORIGIN,Y_ORIGIN)\n",
    "draw_y_axis_line()"
   ]
  },
  {
   "cell_type": "markdown",
   "metadata": {},
   "source": [
    "Define a function **`draw_y_axis_ticks()`**. This function should move the turtle to bottom corner of the chart, and then use it to draw 11 equally spaced \"tick marks\" (height indicators) on the y axis line. There should be tick marks at the very bottom and very top of the line. You must use a **loop** to do this; do not write the same code 10 times!\n",
    "- Even with the loop, controlling the turtle can take a lot of commands so this function may get long\n",
    "- When testing, I recommend you call your `draw_y_axis_line()` function first so you can make sure the tick marks are where you want them to be!"
   ]
  },
  {
   "cell_type": "code",
   "execution_count": 42,
   "metadata": {},
   "outputs": [],
   "source": [
    "def draw_y_axis_ticks():\n",
    "    y_interval = (CHART_HEIGHT-Y_ORIGIN)/11\n",
    "    turtle_module.right(90)\n",
    "    for i in range(1,11):\n",
    "        turtle_module.penup()\n",
    "        turtle_module.goto(X_ORIGIN,Y_ORIGIN+i*y_interval)\n",
    "        turtle_module.pendown()\n",
    "        turtle_module.forward(10)         \n",
    "    turtle_module.penup()\n",
    "    turtle_module.goto(X_ORIGIN,Y_ORIGIN)    \n",
    "    turtle_module.pendown()\n",
    "draw_y_axis_ticks()\n"
   ]
  },
  {
   "cell_type": "markdown",
   "metadata": {},
   "source": [
    "Define a function **`draw_y_axis_labels()`**. This function should take in as an **argument** the maximum value the labels on the chart (e.g., it could be passed a maximum of 100). The function should move the turtle to the bottom corner of the chart and then draw an appropriate label to the left of each of the y axis tick marks: a 0 at the bottom, the maximum value at the top, and then evenly spaced nmubers between. You must use a **loop** to do this; do not write the same code 10 times!\n",
    "- This method will look similar in structure to your `draw_y_axis_ticks()` function.\n",
    "- _Do not_ use `max` as an argument or variable name&mdash;that is the name of a function you might want to use!\n",
    "- You can use the turtle's [write()](https://docs.python.org/3/library/turtle.html#turtle.write) method to have it draw text!\n",
    "- The default font that the turtle draws text with is rather small. You can make it more readable by passing in a _triple_ to the `write()` method's `font` argument. This is a set of 3 values separated by commas and surrounded by parentheses. For example: `(\"Arial\", 14, \"normal\")` represents 14pt Arial.\n",
    "- Again, when testing, I recommend you call your `draw_y_axis_line()` and `draw_y_axis_ticks()` functions first so you can make sure the labels are where you want them to be!\n",
    "- As an _optional_ extra challenge, you can also have the function take in a second argument for the minimum value. This argument should be optional have a default value of 0. You will need to do some math to make sure the values"
   ]
  },
  {
   "cell_type": "code",
   "execution_count": 48,
   "metadata": {},
   "outputs": [],
   "source": [
    "def draw_y_axis_labels():\n",
    "    interval = (CHART_HEIGHT-Y_ORIGIN)/11\n",
    "    turtle_module.right(90)\n",
    "    for i in range(0,11):\n",
    "        turtle_module.penup()\n",
    "        turtle_module.goto(X_ORIGIN-20,Y_ORIGIN+i*interval)\n",
    "        turtle_module.pendown()\n",
    "        turtle_module.write(i*10, move=False, align=\"left\", font=(\"Arial\", 12, \"normal\"))\n",
    "    turtle_module.penup()\n",
    "    turtle_module.goto(X_ORIGIN,Y_ORIGIN)    \n",
    "    turtle_module.pendown()\n",
    "draw_y_axis_labels()\n"
   ]
  },
  {
   "cell_type": "markdown",
   "metadata": {},
   "source": [
    "Define a function **`draw_x_axis()`** (that's `x`, not `y`!). This function should take in as an _argument_ a **list** of values that will go on the x-axis. The function should move the turtle to the bottom corner of the chart and then the complex x-axis (horizontal), with tick marks and labels.\n",
    "- This function will work very similar to the above steps. You are welcome to create additional \"helper functions (e.g., `draw_x_axis_ticks()`) if you wish. But you will still need to have a single `draw_x_axis()` function that calls those helpers.\n",
    "- You should test this function by passing in a list of values (e.g., `[1995, 2000, 2005, 2010, 2015]`). Note that you can use a **`range()`** to very quickly produce a long list of numbers (such as every year from 1990 to 2018).\n",
    "- As an _optional_ extra challenge, make sure that for large lists of values that the labels do not overlap. You should do this by only labeling _some_ of the tick marks (e.g., every other one)."
   ]
  },
  {
   "cell_type": "code",
   "execution_count": 58,
   "metadata": {},
   "outputs": [],
   "source": [
    "def draw_x_axis():\n",
    "    turtle_module.left(90)\n",
    "    turtle_module.forward(620)\n",
    "    turtle_module.goto(X_ORIGIN,Y_ORIGIN)\n",
    "draw_x_axis()"
   ]
  },
  {
   "cell_type": "code",
   "execution_count": 52,
   "metadata": {},
   "outputs": [],
   "source": [
    "def draw_x_axis_ticks(x_data):\n",
    "    x_interval = (CHART_WIDTH-X_ORIGIN)/(len(x_data))\n",
    "    for i in range(0, len(x_data)):\n",
    "        turtle_module.penup()\n",
    "        turtle_module.goto(X_ORIGIN+x_interval*i,Y_ORIGIN)\n",
    "        turtle_module.pendown()\n",
    "        turtle_module.left(90)\n",
    "        turtle_module.forward(10)\n",
    "        turtle_module.right(90)\n",
    "    turtle_module.penup()\n",
    "    turtle_module.goto(X_ORIGIN,Y_ORIGIN)    \n",
    "    turtle_module.pendown()\n",
    "draw_x_axis_ticks(list_data)\n",
    "\n"
   ]
  },
  {
   "cell_type": "code",
   "execution_count": 54,
   "metadata": {},
   "outputs": [],
   "source": [
    "def draw_x_axis_labels(x_data):\n",
    "    x_interval = (CHART_WIDTH-X_ORIGIN)/(len(x_data))\n",
    "    for i in range(0,len(x_data)):\n",
    "        turtle_module.penup()\n",
    "        turtle_module.goto(X_ORIGIN+x_interval*i,Y_ORIGIN-20)\n",
    "        turtle_module.pendown()\n",
    "        turtle_module.left(90)\n",
    "        turtle_module.write(x_data[i], move=False, align=\"left\", font=(\"Arial\", 12, \"normal\"))\n",
    "        turtle_module.right(90)\n",
    "    turtle_module.penup()\n",
    "    turtle_module.goto(X_ORIGIN,Y_ORIGIN)    \n",
    "    turtle_module.pendown()  \n",
    "draw_x_axis_labels(list_data)\n",
    "\n"
   ]
  },
  {
   "cell_type": "code",
   "execution_count": 198,
   "metadata": {},
   "outputs": [],
   "source": [
    "# You can run this cell to test your function!\n",
    "turtle_module.reset() # clear previous test\n",
    "\n",
    "# call your function here to test it!\n"
   ]
  },
  {
   "cell_type": "markdown",
   "metadata": {},
   "source": [
    "Be sure to call all of your \"draw axis\" methods to test that your entire chart looks correct!"
   ]
  },
  {
   "cell_type": "markdown",
   "metadata": {},
   "source": [
    "## Part 2. Reading Data\n",
    "In this next step you will read in some data to draw in your chart&mdash;initially to specify the values on the axes.\n",
    "\n",
    "You will be reading data from a [**.csv**](https://en.wikipedia.org/wiki/Comma-separated_values) file: a plain-text data format where each line represents a record (row) of data and where feature (column) is separated by a comma. In particular, your program will be able to handle `.csv` files that include a header row, where the first feature (column) is a \"label\" for a record, and the rest of the columns are numeric values (such as a time series).\n",
    "- This assignment comes with a `test.csv` file for you to test with, found inside the `data/` folder, that contains arbitrary testing data."
   ]
  },
  {
   "cell_type": "markdown",
   "metadata": {},
   "source": [
    "The first step is to read the file and get the list of features from the \"header\" row. For a time series, this will be a list of the \"years\" included.\n",
    "\n",
    "Define a function **`get_features_from_file()`** that takes in a _**relative** file path_ to a csv file (a string such as \"data/test.csv\"). This function should open that file, read the first line of content, [split](https://docs.python.org/3/library/stdtypes.html#str.split) the values into a list, and ***return*** those values (as a **list**).\n",
    "\n",
    "- Be sure to use a `with` block when opening the file!\n",
    "- You'll want to remove the \"new line\" (`\\n`) character from the end of the line; you can use the [strip()](https://docs.python.org/3/library/stdtypes.html#str.strip) method to do this.\n",
    "\n",
    "You can test your function by opening the `data/test.csv` file. You should get a list of `['group', '1990', '1991', '1992', '1993', '1994', '1995', '1996']`."
   ]
  },
  {
   "cell_type": "code",
   "execution_count": 193,
   "metadata": {},
   "outputs": [],
   "source": [
    "import csv\n",
    "with open('data/test.csv') as file:\n",
    "    reader = csv.reader(file)\n",
    "    file_list = next(reader)"
   ]
  },
  {
   "cell_type": "markdown",
   "metadata": {},
   "source": [
    "Once you have these features, you can use them to label the x-axis of your chart! Try calling your `draw_x_axis()` function, passing in the features from the file (_slice_ off the 0th value first, since that's not a year):"
   ]
  },
  {
   "cell_type": "code",
   "execution_count": 207,
   "metadata": {},
   "outputs": [],
   "source": [
    "X_ORIGIN = 80\n",
    "Y_ORIGIN = 50\n",
    "CHART_HEIGHT = 500\n",
    "CHART_WIDTH = 700\n",
    "turtle_module.penup()\n",
    "turtle_module.goto(X_ORIGIN,Y_ORIGIN)\n",
    "turtle_module.pendown()\n",
    "draw_y_axis_line()\n",
    "draw_y_axis_ticks()\n",
    "draw_y_axis_labels()\n",
    "turtle_module.penup()\n",
    "turtle_module.goto(X_ORIGIN,Y_ORIGIN)\n",
    "turtle_module.pendown()\n",
    "draw_x_axis()\n",
    "draw_x_axis_ticks(file_list[1:])\n",
    "draw_x_axis_labels(file_list[1:])\n",
    "turtle_module.penup()\n",
    "turtle_module.goto(X_ORIGIN,Y_ORIGIN)    \n",
    "turtle_module.pendown()\n",
    "\n"
   ]
  },
  {
   "cell_type": "markdown",
   "metadata": {},
   "source": [
    "Next you will need to read the _data values_ from the file so that you can draw them on your chart. However, all content from the file will be read as a _string_, so you'll need to do some processing to turn it into numeric data.\n",
    "\n",
    "Define a function **`get_numeric_data_from_file()`** that takes in a _**relative** file path_ to a csv file (a string such as \"data/test.csv\"). This function should open that file and read _all_ of the content. It will need to then split _each_ line into a list of features. And then it will need to convert _each_ numeric value in that list into a number (using `float()`&mdash;they may not be whole numbers). The function will then ***return*** the cleaned **list of lists of numeric values**.\n",
    "\n",
    "- Again, remember to open the file using a `with` block\n",
    "- This function does not need to consider and should not return the first \"header\" row. You **will** need to include the first \"label\" value (a string) for each data record.\n",
    "- You will need to use a _nested loop_: the csv file will contain a \"list\" of lines, each of which contains a \"list\" of records.\n",
    "- Remember that you can use a `range()` to loop through the _indices_ of a list, rather than its items!\n",
    "\n",
    "You can test your function again with the `data/test.csv` file. It should return a list of 4 lists&mdash;one for each row. The values in each of those lists (except the first \"label\") should be numbers, not strings (not in `\"\"`). "
   ]
  },
  {
   "cell_type": "code",
   "execution_count": 200,
   "metadata": {},
   "outputs": [
    {
     "name": "stdout",
     "output_type": "stream",
     "text": [
      "[['group', 1990, 1991, 1992, 1993, 1994, 1995, 1996], ['aa', 10, 20, 30, 40, 50, 60, 70], ['bb', 80, 60, 70, 50, 30, 0, 90], ['ac', 20, 0, 80, 20, 0, 80, 20], ['bd', 50, 40, 30, 20, 10, 10, 0]]\n"
     ]
    }
   ],
   "source": [
    "composite_list=[]\n",
    "def get_numeric_data_from_file(pathfile):\n",
    "    with open(pathfile, newline='') as f:\n",
    "        reader = csv.reader(f)\n",
    "        l = list(map(list, reader))\n",
    "        for i in range(0,len(l)):\n",
    "            new_list=[l[i][0]]\n",
    "            for j in range(1,len(l[i])):\n",
    "                new_list.append(int(l[i][j]))\n",
    "            composite_list.append(new_list)\n",
    "        print(composite_list)\n",
    "get_numeric_data_from_file('data/test.csv')"
   ]
  },
  {
   "cell_type": "markdown",
   "metadata": {},
   "source": [
    "In order to draw the x-axis labels, you'll need to know the maximum value of the data set. Define a function **`get_maximum_value()`** that takes in as an _argument_ a \"list of lists\" such as one returned by your `get_numeric_data_from_file()` function. This function should ***return*** the _maximum_ numeric value across all of the lists.\n",
    "- While there are a number of ways to do this, you should use **loops** (instead of, say the `max()` function) for practice. You will need to use nested loops again!\n",
    "- You can test your function by calling it on the data from the `data/test.csv` file. The maximum value in that csv file is 90.\n",
    "- _Optionally_, if you are supporting minimum values, you'll want to define an equivalent `get_minimum_value()` function."
   ]
  },
  {
   "cell_type": "code",
   "execution_count": 201,
   "metadata": {},
   "outputs": [
    {
     "name": "stdout",
     "output_type": "stream",
     "text": [
      "90\n"
     ]
    }
   ],
   "source": [
    "def get_maximum_value(maxnum_list):\n",
    "    index = 0\n",
    "    curr_max=maxnum_list[1][1]\n",
    "    for i in range(1,len(maxnum_list)):\n",
    "        for j in range(1,len(maxnum_list[i])):\n",
    "            if maxnum_list[i][j]>curr_max :\n",
    "                curr_max = maxnum_list[i][j]\n",
    "                index = i\n",
    "    print(curr_max)\n",
    "    #print(maxnum_list[index][0])\n",
    "get_maximum_value(composite_list)"
   ]
  },
  {
   "cell_type": "markdown",
   "metadata": {},
   "source": [
    "Once you have this value, you can use it when drawing the y-axis of your chart! Try calling your draw functions to draw _both_ chart axis with values based on the csv file!"
   ]
  },
  {
   "cell_type": "markdown",
   "metadata": {},
   "source": [
    "One last piece of data processing: because there may be a lot of data in the file but isn't a lot of room on the chart, you should be able to \"search\" for particular data to show. Define a function **`search_data()`**. This function should take _two_ arguments: a list of lists like one returned by your `get_numeric_data_from_file()` function, and a string representing a \"search phrase\". Your function should return a \"sub-list of the lists\"&mdash;only those lists where the 0th value (the \"label\") [contains](https://docs.python.org/3/library/stdtypes.html#str.find) the search term.\n",
    "- For example, if you search the `data/test.csv` data for \"a\", you should get only the first and third data rows (because those two have an \"a\" in the label). You can test your function with this example."
   ]
  },
  {
   "cell_type": "code",
   "execution_count": 202,
   "metadata": {},
   "outputs": [
    {
     "data": {
      "text/plain": [
       "[['aa', 10, 20, 30, 40, 50, 60, 70], ['ac', 20, 0, 80, 20, 0, 80, 20]]"
      ]
     },
     "execution_count": 202,
     "metadata": {},
     "output_type": "execute_result"
    }
   ],
   "source": [
    "def search_data(search_list,searchTarget):\n",
    "    resultList=[]\n",
    "    for i in range(0,len(search_list)):\n",
    "        if searchTarget in search_list[i][0]:\n",
    "            resultList.append(search_list[i])\n",
    "    return resultList\n",
    "    \n",
    "search_data(composite_list,'a')"
   ]
  },
  {
   "cell_type": "markdown",
   "metadata": {},
   "source": [
    "## Part 3. Charting Data\n",
    "In this final step you'll use the data values you've processed to draw a [**line chart**](https://en.wikipedia.org/wiki/Line_chart) of your time series. By the end, you'll have a function that will be able to use the turtle to visualize any (appropriately formatted) csv file!"
   ]
  },
  {
   "cell_type": "markdown",
   "metadata": {},
   "source": [
    "Define a function **`draw_single_data_series()`** that will be used to draw a _single_ data series (that is: a single line on your chart). This function should take three arguments: a **list** of values, the first element of which is the series name; a number representing the maximum value on the chart (for scaling purposes), and a string representing what [_color_](https://docs.python.org/3/library/turtle.html#turtle.color) to draw the series in. The function should use the turtle to draw a single line representing this series.\n",
    "- I recommend making the turtle's line a little [thicker](https://docs.python.org/3/library/turtle.html#turtle.width); 3 pixels wide worked for me.\n",
    "- Your function should use a **loop** to mobve the turtle from each \"data entry\" to the next, connected via a line (leave the pen down!). The [goto()](https://docs.python.org/3/library/turtle.html#turtle.goto) is almost necessary here.\n",
    "- You will need to calculate where each \"point\" on the line is based on the width and height of the chart, as well as the chart's maximum value. _Tip_: think about calculating the _ratio_ of pixels to value units, and then multiplying the value by that ratio to determine height. So if a value of `1` was 10 pixels high (a ratio of 10:1), then a value of `20` would be 200 pixels high (`20*10`).\n",
    "- At the right side of each line, your function should have the turtle `write()` the label of the data series.\n",
    "\n",
    "You can test this function by passing it the first list from the `data/test.csv` file's list of lists (e.g., `test_data[0]`. I recommend also drawing the axes with appropriate label values to make sure everything is where you expect!"
   ]
  },
  {
   "cell_type": "code",
   "execution_count": 181,
   "metadata": {},
   "outputs": [],
   "source": [
    "turtle_module.width(3)\n",
    "def draw_single_data_series(single_list,single_color):\n",
    "    x_interval = (CHART_WIDTH-X_ORIGIN)/7\n",
    "    y_ratio = (CHART_HEIGHT-Y_ORIGIN)/110\n",
    "    turtle_module.pencolor(single_color)\n",
    "    turtle_module.penup()\n",
    "    turtle_module.goto(X_ORIGIN,single_list[1]*y_ratio+Y_ORIGIN)\n",
    "    turtle_module.pendown()\n",
    "    for i in range(1,len(single_list)-1):\n",
    "        turtle_module.goto(X_ORIGIN+x_interval*i,single_list[i+1]*y_ratio+Y_ORIGIN)\n",
    "draw_single_data_series(composite_list[1],\"red\")\n",
    "turtle_module.penup()\n",
    "turtle_module.goto(X_ORIGIN,Y_ORIGIN)\n",
    "turtle_module.pendown()"
   ]
  },
  {
   "cell_type": "markdown",
   "metadata": {},
   "source": [
    "Create a variable **`color_palette`** that is a list of 5 or more strings representing [_colors_](https://docs.python.org/3/library/turtle.html#turtle.pencolor) to draw lines in. These can be named colors (e.g., `\"red\"` or `\"blue\"`), or a hex code (such as `\"#33cc8c\"`)."
   ]
  },
  {
   "cell_type": "code",
   "execution_count": 205,
   "metadata": {},
   "outputs": [
    {
     "data": {
      "text/plain": [
       "['red', 'green', 'brown', 'blue', 'black']"
      ]
     },
     "execution_count": 205,
     "metadata": {},
     "output_type": "execute_result"
    }
   ],
   "source": [
    "color_palette = ['red','green','brown','blue','black']\n",
    "color_palette"
   ]
  },
  {
   "cell_type": "markdown",
   "metadata": {},
   "source": [
    "Finally, define a function **`draw_data_set()`** that takes in three arguments: a _**relative** file path_ to a csv file (a string such as \"data/test.csv\"); a list of colors to draw in; and a named argument `search_term` whose default value is `None`. This function should do the following:\n",
    "\n",
    "1. Get the features and data from the specified file\n",
    "2. Draw the chart axes and labels with appropriate values\n",
    "3. _Search_ the file's data for any records whose first element includes the `search_term`. If the `search_term` argument is `None`, then the function should just slice the first 5 records from the file's data.\n",
    "4. Draw a data series line for _each_ record in either the \"research results\" or the first 5 records (as appropriate). Each data series should be drawn in a _unique color_, taken from the passed in color list.\n",
    "\n",
    "This function should call on your previous functions (indeed, most of its body will be made up of the testing code you've used before!)."
   ]
  },
  {
   "cell_type": "code",
   "execution_count": 208,
   "metadata": {},
   "outputs": [
    {
     "name": "stdout",
     "output_type": "stream",
     "text": [
      "80\n",
      "[['aa', 10, 20, 30, 40, 50, 60, 70], ['bb', 80, 60, 70, 50, 30, 0, 90], ['ac', 20, 0, 80, 20, 0, 80, 20], ['bd', 50, 40, 30, 20, 10, 10, 0]]\n"
     ]
    }
   ],
   "source": [
    "def draw_data_set(dataset,colorset,searchterm):\n",
    "    turtle_module.width(3)\n",
    "    drawlists =[]\n",
    "    if(searchterm == None):\n",
    "        drawlists = dataset[1:]\n",
    "    else:\n",
    "        drawlists = search_data(dataset,searchterm)\n",
    "        \n",
    "    x_interval = (CHART_WIDTH-X_ORIGIN)/7\n",
    "    y_ratio = (CHART_HEIGHT-Y_ORIGIN)/110\n",
    "    current_x = X_ORIGIN\n",
    "    current_y = Y_ORIGIN\n",
    "    print (X_ORIGIN)\n",
    "    print (drawlists)\n",
    "    for i in range(0,len(drawlists)):\n",
    "        turtle_module.pencolor(color_palette[i])\n",
    "        turtle_module.penup()\n",
    "        turtle_module.goto(X_ORIGIN,drawlists[i][1]*y_ratio+Y_ORIGIN)\n",
    "        turtle_module.pendown()\n",
    "        for j in range(1,len(drawlists[i])-1):\n",
    "            current_x = X_ORIGIN+x_interval*j\n",
    "            current_y = drawlists[i][j+1]*y_ratio+Y_ORIGIN\n",
    "            turtle_module.goto(current_x,current_y)\n",
    "        turtle_module.penup()\n",
    "        turtle_module.goto(current_x+20,current_y)\n",
    "        turtle_module.pendown()\n",
    "        turtle_module.left(90)\n",
    "        turtle_module.write(drawlists[i][0], move=False, align=\"left\", font=(\"Arial\", 12, \"normal\"))\n",
    "        turtle_module.right(90)\n",
    "            \n",
    "            \n",
    "draw_data_set(composite_list,color_palette,None)\n",
    "turtle_module.penup()\n",
    "turtle_module.goto(X_ORIGIN,Y_ORIGIN)\n",
    "turtle_module.pendown()"
   ]
  },
  {
   "cell_type": "markdown",
   "metadata": {},
   "source": [
    "Call your `draw_data_set()` function, passing in the path to a CSV file, your `color_palette` list, and a search term of your choosing to draw a time series of that data! Be sure and click the \"Save Drawing\" button at the top to save a copy for us to see!"
   ]
  },
  {
   "cell_type": "code",
   "execution_count": 213,
   "metadata": {},
   "outputs": [
    {
     "data": {
      "text/plain": [
       "'78 142.333333333333 moveto\\n69 147.333333333333 lineto\\n71 142.333333333333 lineto\\n69 137.333333333333 lineto\\n78 142.333333333333 lineto\\n0.000 0.000 0.000 setrgbcolor AdjustColor\\neofill\\n78 142.333333333333 moveto\\n69 147.333333333333 lineto\\n71 142.333333333333 lineto\\n69 137.333333333333 lineto\\n78 142.333333333333 lineto\\n1 setlinejoin 1 setlinecap\\n1 setlinewidth\\n[] 0 setdash\\n0.000 0.000 1.000 setrgbcolor AdjustColor\\nstroke\\n'"
      ]
     },
     "execution_count": 213,
     "metadata": {},
     "output_type": "execute_result"
    }
   ],
   "source": [
    "turtle.getscreen().getcanvas().postscript(file='output.ps')"
   ]
  }
 ],
 "metadata": {
  "kernelspec": {
   "display_name": "Python 3",
   "language": "python",
   "name": "python3"
  },
  "language_info": {
   "codemirror_mode": {
    "name": "ipython",
    "version": 3
   },
   "file_extension": ".py",
   "mimetype": "text/x-python",
   "name": "python",
   "nbconvert_exporter": "python",
   "pygments_lexer": "ipython3",
   "version": "3.7.1"
  }
 },
 "nbformat": 4,
 "nbformat_minor": 2
}
